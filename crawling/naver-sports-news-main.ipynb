{
 "cells": [
  {
   "cell_type": "code",
   "execution_count": 116,
   "metadata": {},
   "outputs": [],
   "source": [
    "from urllib.request import urlopen\n",
    "from bs4 import BeautifulSoup # BeautifulSoup import\n",
    "import requests\n",
    "\n",
    "naver_sports_base_url = \"https://sports.news.naver.com\"\n",
    "base = \"https://sports.news.naver.com/kbaseball/index.nhn\"\n",
    "\n",
    "headers = {'User-Agent': 'Mozilla/5.0 (Macintosh; Intel Mac OS X 10_14_5) AppleWebKit/537.36 (KHTML, like Gecko) Chrome/76.0.3809.132 Safari/537.36'}\n",
    "\n",
    "# req = requests.get(base, headers=headers)\n",
    "\n",
    "\n",
    "num_of_posts = 20\n",
    "start_page = 1\n",
    "\n",
    "soup = BeautifulSoup(source, \"html5lib\") # html 문서를 통해 soup 객체 생성"
   ]
  },
  {
   "cell_type": "code",
   "execution_count": 121,
   "metadata": {},
   "outputs": [
    {
     "name": "stdout",
     "output_type": "stream",
     "text": [
      "'3안타 3타점' 1군 재입성 자축한 김회성 \"편한 마음이 비결\"\n",
      "https://sports.news.naver.com/kbaseball/news/read.nhn?oid=421&aid=0004174034\n",
      "‘5전6기’ KT 악연 끝…9승 거둔 서폴드, 한화도 10승 투수 희망 [스경X MVP]\n",
      "https://sports.news.naver.com/kbaseball/news/read.nhn?oid=144&aid=0000629268\n",
      "베테랑 자리 줄어든 호랑이굴…‘두목호랑이’ 최형우는 예외다 [SW스타]\n",
      "https://sports.news.naver.com/kbaseball/news/read.nhn?oid=396&aid=0000524871\n",
      "‘결승타 포함 3타점’ 두산 박세혁 “직구 노린 게 좋은 결과”\n",
      "https://sports.news.naver.com/kbaseball/news/read.nhn?oid=117&aid=0003268489\n",
      "'3연승' 김태형 감독 \"두산은 지금 활기가 넘친다\" [SC코멘트]\n",
      "https://sports.news.naver.com/kbaseball/news/read.nhn?oid=076&aid=0003463105\n",
      "'콜업 자축포' 김회성, \"선발 출장 생각도 못 해\" [스포츠타임 톡]\n",
      "https://sports.news.naver.com/kbaseball/news/read.nhn?oid=477&aid=0000205098\n",
      "'시즌 3승' KIA 임기영 \"킥킹 동작 변화 주효, 오늘처럼만 던졌으면…\" [SC히어로]\n",
      "https://sports.news.naver.com/kbaseball/news/read.nhn?oid=076&aid=0003463091\n",
      "'지석훈 8회 결승타' NC, 키움 꺾고 2연패 탈출 '단독 5위' [오!쎈 리뷰]\n",
      "https://sports.news.naver.com/kbaseball/news/read.nhn?oid=109&aid=0004078719\n",
      "‘삼진왕’ 된 윌리엄슨, 포크볼에 헛스윙…삼성 3연패 찬물\n",
      "https://sports.news.naver.com/kbaseball/news/read.nhn?oid=410&aid=0000619701\n",
      "김도환의 기록되지 않은 실책, 삼성 추격 의지 꺾였다 [MD포커스]\n",
      "https://sports.news.naver.com/kbaseball/news/read.nhn?oid=117&aid=0003268483\n",
      "이대호 없는 3일…무기력한 롯데, 평균 2득점 '전패'\n",
      "https://sports.news.naver.com/kbaseball/news/read.nhn?oid=477&aid=0000205091\n",
      "오랜만에 투·타 완벽했던 한화, KT에 6-1로 완승\n",
      "https://sports.news.naver.com/kbaseball/news/read.nhn?oid=421&aid=0004174004\n",
      "이대호 2군행 쇼크가 가져온 리빌딩 화두…롯데 새 단장의 과제들\n",
      "https://sports.news.naver.com/kbaseball/news/read.nhn?oid=144&aid=0000629260\n",
      "'최형우 역전 홈런' KIA 3연승…롯데 원정 11연패 [광주 게임노트]\n",
      "https://sports.news.naver.com/kbaseball/news/read.nhn?oid=477&aid=0000205088\n",
      "캐나다전 승리 이끈 이성열 감독 \"마지막이라는 각오로 임했다\"\n",
      "https://sports.news.naver.com/kbaseball/news/read.nhn?oid=001&aid=0011053502\n",
      "'88순위' 배제성, 하위 라운드 선수들의 희망\n",
      "https://sports.news.naver.com/kbaseball/news/read.nhn?oid=047&aid=0002238697\n",
      "MLB 스카우트 몰고다니는 장재영 \"관심? 아직 잘 모르겠어요\"\n",
      "https://sports.news.naver.com/kbaseball/news/read.nhn?oid=001&aid=0011053446\n",
      "최고 153km 주승우 앞세운 성균관대 선수권2연패, 왕중왕전 정조준\n",
      "https://sports.news.naver.com/kbaseball/news/read.nhn?oid=076&aid=0003463034\n",
      "잠실 나들이 오승환, “수술 성공적”\n",
      "https://sports.news.naver.com/kbaseball/news/read.nhn?oid=382&aid=0000758379\n",
      "가을바람 타고 돌아온 '안타머신'… 페르난데스, 리그 막판 1위 경쟁 불 지피나\n",
      "https://sports.news.naver.com/kbaseball/news/read.nhn?oid=022&aid=0003393870\n"
     ]
    }
   ],
   "source": [
    "url = base_url + str(start_page)\n",
    "\n",
    "html = urlopen(base)\n",
    "source = html.read()\n",
    "html.close()\n",
    "\n",
    "\n",
    "# req = requests.get(base, headers=headers)\n",
    "# soup = BeautifulSoup(req.content, 'html.parser', from_encoding='utf-8')\n",
    "\n",
    "soup = BeautifulSoup(source, \"html5lib\")\n",
    "\n",
    "news = soup.find('div', class_=\"home_news\")\n",
    "news\n",
    "\n",
    "list = news.find_all('a')\n",
    "\n",
    "list\n",
    "\n",
    "newsList = []\n",
    "\n",
    "for l in list:\n",
    "    link = l.get('href')\n",
    "    title = l.get('title')\n",
    "    if (link.find(\"index\") == -1):\n",
    "        newsList.append((naver_sports_base_url+link, title))\n",
    "        print(title)\n",
    "        print(naver_sports_base_url+link)\n",
    "        \n",
    "\n",
    "\n",
    "# content = soup.find('div', class_='content')\n",
    "# content\n",
    "\n",
    "# html = requests.get(base).text\n",
    "# print(html)\n",
    "# list = content.find_all('a', class_='thmb')\n",
    "# list"
   ]
  },
  {
   "cell_type": "code",
   "execution_count": null,
   "metadata": {},
   "outputs": [],
   "source": []
  }
 ],
 "metadata": {
  "kernelspec": {
   "display_name": "Python 3",
   "language": "python",
   "name": "python3"
  },
  "language_info": {
   "codemirror_mode": {
    "name": "ipython",
    "version": 3
   },
   "file_extension": ".py",
   "mimetype": "text/x-python",
   "name": "python",
   "nbconvert_exporter": "python",
   "pygments_lexer": "ipython3",
   "version": "3.7.3"
  }
 },
 "nbformat": 4,
 "nbformat_minor": 2
}
