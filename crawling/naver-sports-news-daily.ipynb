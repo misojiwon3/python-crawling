{
 "cells": [
  {
   "cell_type": "code",
   "execution_count": 16,
   "metadata": {},
   "outputs": [],
   "source": [
    "from urllib.request import urlopen\n",
    "from bs4 import BeautifulSoup # BeautifulSoup import\n",
    "import requests\n",
    "import re # regular expression\n",
    "\n",
    "naver_sports_base_url = \"https://sports.news.naver.com\"\n",
    "base = \"https://news.naver.com/main/list.nhn?mode=LPOD&mid=sec&sid1=001&sid2=140&oid=001&isYeonhapFlash=Y\"\n",
    "\n",
    "date_query = \"&date=20190901\" # variable로 변경\n",
    "page_query = \"&page=1\" # variable로 변경\n",
    "\n",
    "headers = {'User-Agent': 'Mozilla/5.0 (Macintosh; Intel Mac OS X 10_14_5) AppleWebKit/537.36 (KHTML, like Gecko) Chrome/76.0.3809.132 Safari/537.36'}\n",
    "\n",
    "num_of_posts = 20\n",
    "start_page = 1\n",
    "\n",
    "# soup = BeautifulSoup(source, \"html5lib\") # html 문서를 통해 soup 객체 생성\n",
    "# html = urlopen(base)\n",
    "# source = html.read()\n",
    "# html.close()"
   ]
  },
  {
   "cell_type": "code",
   "execution_count": 17,
   "metadata": {},
   "outputs": [
    {
     "data": {
      "text/plain": [
       "[<a class=\"nclicks(cnt_flashart)\" href=\"https://news.naver.com/main/read.nhn?mode=LPOD&amp;mid=sec&amp;oid=001&amp;aid=0011053580&amp;isYeonhapFlash=Y&amp;rc=N\">文대통령 \"대입제도 전반 재검토해달라…젊은세대에 깊은 상처\"</a>,\n",
       " <a class=\"nclicks(fls.list)\" href=\"https://news.naver.com/main/read.nhn?mode=LPOD&amp;mid=sec&amp;oid=001&amp;aid=0011053454&amp;isYeonhapFlash=Y&amp;rc=N\">文대통령 \"청문회를 정쟁으로만 몰고 가 좋은 사람 발탁 어려워\"</a>,\n",
       " <a class=\"nclicks(fls.list)\" href=\"https://news.naver.com/main/read.nhn?mode=LPOD&amp;mid=sec&amp;oid=001&amp;aid=0011053533&amp;isYeonhapFlash=Y&amp;rc=N\">與, 曺청문회 '내일 개최' 대야 총공세…\"한국당, 무리수·생떼\"</a>,\n",
       " <a class=\"nclicks(fls.list)\" href=\"https://news.naver.com/main/read.nhn?mode=LPOD&amp;mid=sec&amp;oid=001&amp;aid=0011053583&amp;isYeonhapFlash=Y&amp;rc=N\">曺청문회 내일 개최 무산…與野대치속 靑 '재송부후 임명' 수순</a>,\n",
       " <a class=\"nclicks(fls.list)\" href=\"https://news.naver.com/main/read.nhn?mode=LPOD&amp;mid=sec&amp;oid=001&amp;aid=0011053574&amp;isYeonhapFlash=Y&amp;rc=N\">한국당, '曺청문회 무산' 靑·與 맹공…\"무조건 임명강행 수순\"</a>,\n",
       " <a class=\"nclicks(cnt_flashart)\" href=\"https://news.naver.com/main/read.nhn?mode=LPOD&amp;mid=sec&amp;oid=001&amp;aid=0011053057&amp;isYeonhapFlash=Y&amp;rc=N\"><strong>검찰 '조국 수사' 함구령 속 참고인 소환조사 착수</strong></a>,\n",
       " <a class=\"nclicks(cnt_flashart)\" href=\"https://news.naver.com/main/read.nhn?mode=LPOD&amp;mid=sec&amp;oid=001&amp;aid=0011052653&amp;isYeonhapFlash=Y&amp;rc=N\"><strong>日의원 \"전쟁으로 독도 되찾자…불법점거자 쫓아내자\"</strong></a>,\n",
       " <a class=\"nclicks(cnt_flashart)\" href=\"https://news.naver.com/main/read.nhn?mode=LPOD&amp;mid=sec&amp;oid=001&amp;aid=0011053345&amp;isYeonhapFlash=Y&amp;rc=N\"><strong>文대통령, 태국 향발…5박 6일 동남아 3국 순방</strong></a>,\n",
       " <a class=\"nclicks(cnt_flashart)\" href=\"https://news.naver.com/main/read.nhn?mode=LPOD&amp;mid=sec&amp;oid=001&amp;aid=0011053478&amp;isYeonhapFlash=Y&amp;rc=N\"><strong>홍콩서 계속되는 혼돈…시위대 '공항 마비' 또 시도</strong></a>,\n",
       " <a class=\"nclicks(cnt_flashart)\" href=\"https://news.naver.com/main/read.nhn?mode=LPOD&amp;mid=sec&amp;oid=001&amp;aid=0011053448&amp;isYeonhapFlash=Y&amp;rc=N\"><strong>가을바람에 나들이 인파…벌초객 몰려 고속道 몸살</strong></a>,\n",
       " <a class=\"nclicks(cnt_flashart)\" href=\"https://news.naver.com/main/read.nhn?mode=LPOD&amp;mid=sec&amp;oid=001&amp;aid=0011053011&amp;isYeonhapFlash=Y&amp;rc=N\"><strong>기상청 \"북한 평안남도 개천 남동쪽서 2.3 지진 발생\"</strong></a>,\n",
       " <a class=\"nclicks(cnt_flashart)\" href=\"https://news.naver.com/main/read.nhn?mode=LPOD&amp;mid=sec&amp;oid=001&amp;aid=0011053016&amp;isYeonhapFlash=Y&amp;rc=N\"><strong>미중 '보복의 악순환'…홍콩·무역 갈등 얽혀 첩첩산중</strong></a>,\n",
       " <a class=\"nclicks(cnt_flashart)\" href=\"https://news.naver.com/main/read.nhn?mode=LPOD&amp;mid=sec&amp;oid=001&amp;aid=0011053477&amp;isYeonhapFlash=Y&amp;rc=N\"><strong>獨대통령, 2차대전 민간인 학살현장 찾아 \"용서 구한다\"</strong></a>,\n",
       " <a class=\"nclicks(cnt_flashart)\" href=\"https://news.naver.com/main/read.nhn?mode=LPOD&amp;mid=sec&amp;oid=001&amp;aid=0011053530&amp;isYeonhapFlash=Y&amp;rc=N\"><strong>'패스트트랙' 한국당 첫 경찰조사…김준교 前청년최고위원 후보</strong></a>]"
      ]
     },
     "execution_count": 17,
     "metadata": {},
     "output_type": "execute_result"
    }
   ],
   "source": [
    "req = requests.get(base + date_query + page_query, headers=headers)\n",
    "soup = BeautifulSoup(req.content, 'html.parser', from_encoding='utf-8')\n",
    "\n",
    "soup\n",
    "\n",
    "news_list = soup.find('div', class_='list_body').find_all('a', class_=re.compile('nclicks*'))\n",
    "news_list\n",
    "\n",
    "for news in news_list:\n",
    "    \n",
    "\n",
    "\n",
    "# news = soup.find('div', class_=\"home_news\")\n",
    "# news\n",
    "\n",
    "# list = news.find_all('a')\n",
    "\n",
    "# list\n",
    "\n",
    "# newsList = []\n",
    "\n",
    "# for l in list:\n",
    "#     link = l.get('href')\n",
    "#     title = l.get('title')\n",
    "#     if (link.find(\"index\") == -1):\n",
    "#         newsList.append((naver_sports_base_url+link, title))\n",
    "#         print(title)\n",
    "#         print(naver_sports_base_url+link)\n",
    "        \n",
    "\n",
    "\n",
    "# content = soup.find('div', class_='content')\n",
    "# content\n",
    "\n",
    "# html = requests.get(base).text\n",
    "# print(html)\n",
    "# list = content.find_all('a', class_='thmb')\n",
    "# list"
   ]
  },
  {
   "cell_type": "code",
   "execution_count": null,
   "metadata": {},
   "outputs": [],
   "source": []
  }
 ],
 "metadata": {
  "kernelspec": {
   "display_name": "Python 3",
   "language": "python",
   "name": "python3"
  },
  "language_info": {
   "codemirror_mode": {
    "name": "ipython",
    "version": 3
   },
   "file_extension": ".py",
   "mimetype": "text/x-python",
   "name": "python",
   "nbconvert_exporter": "python",
   "pygments_lexer": "ipython3",
   "version": "3.7.3"
  }
 },
 "nbformat": 4,
 "nbformat_minor": 2
}
