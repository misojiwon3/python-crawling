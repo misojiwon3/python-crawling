{
 "cells": [
  {
   "cell_type": "markdown",
   "metadata": {},
   "source": [
    "### 개발 사항\n",
    "* 한 시간에 한번정도 돌면서 새로 추가된 뉴스 정보 특정 채널을 통해 전달 가능하도록"
   ]
  },
  {
   "cell_type": "code",
   "execution_count": 23,
   "metadata": {},
   "outputs": [],
   "source": [
    "from urllib.request import urlopen\n",
    "from bs4 import BeautifulSoup # BeautifulSoup import\n",
    "import requests\n",
    "import re # regular expression\n",
    "\n",
    "naver_sports_base_url = \"https://sports.news.naver.com\"\n",
    "base = \"https://news.naver.com/main/list.nhn?mode=LPOD&mid=sec&sid1=001&sid2=140&oid=001&isYeonhapFlash=Y\"\n",
    "\n",
    "date_query = \"&date=20190901\" # variable로 변경\n",
    "page_query = \"&page=1\" # variable로 변경\n",
    "\n",
    "headers = {'User-Agent': 'Mozilla/5.0 (Macintosh; Intel Mac OS X 10_14_5) AppleWebKit/537.36 (KHTML, like Gecko) Chrome/76.0.3809.132 Safari/537.36'}\n",
    "\n",
    "num_of_posts = 20\n",
    "start_page = 1\n",
    "\n",
    "# soup = BeautifulSoup(source, \"html5lib\") # html 문서를 통해 soup 객체 생성\n",
    "# html = urlopen(base)\n",
    "# source = html.read()\n",
    "# html.close()"
   ]
  },
  {
   "cell_type": "code",
   "execution_count": 24,
   "metadata": {},
   "outputs": [
    {
     "name": "stdout",
     "output_type": "stream",
     "text": [
      "文대통령 \"대입제도 전반 재검토해달라…젊은세대에 깊은 상처\"\n",
      "https://news.naver.com/main/read.nhn?mode=LPOD&mid=sec&oid=001&aid=0011053580&isYeonhapFlash=Y&rc=N\n",
      "文대통령 \"청문회를 정쟁으로만 몰고 가 좋은 사람 발탁 어려워\"\n",
      "https://news.naver.com/main/read.nhn?mode=LPOD&mid=sec&oid=001&aid=0011053454&isYeonhapFlash=Y&rc=N\n",
      "與, 曺청문회 '내일 개최' 대야 총공세…\"한국당, 무리수·생떼\"\n",
      "https://news.naver.com/main/read.nhn?mode=LPOD&mid=sec&oid=001&aid=0011053533&isYeonhapFlash=Y&rc=N\n",
      "曺청문회 내일 개최 무산…與野대치속 靑 '재송부후 임명' 수순\n",
      "https://news.naver.com/main/read.nhn?mode=LPOD&mid=sec&oid=001&aid=0011053583&isYeonhapFlash=Y&rc=N\n",
      "한국당, '曺청문회 무산' 靑·與 맹공…\"무조건 임명강행 수순\"\n",
      "https://news.naver.com/main/read.nhn?mode=LPOD&mid=sec&oid=001&aid=0011053574&isYeonhapFlash=Y&rc=N\n",
      "검찰 '조국 수사' 함구령 속 참고인 소환조사 착수\n",
      "https://news.naver.com/main/read.nhn?mode=LPOD&mid=sec&oid=001&aid=0011053057&isYeonhapFlash=Y&rc=N\n",
      "日의원 \"전쟁으로 독도 되찾자…불법점거자 쫓아내자\"\n",
      "https://news.naver.com/main/read.nhn?mode=LPOD&mid=sec&oid=001&aid=0011052653&isYeonhapFlash=Y&rc=N\n",
      "文대통령, 태국 향발…5박 6일 동남아 3국 순방\n",
      "https://news.naver.com/main/read.nhn?mode=LPOD&mid=sec&oid=001&aid=0011053345&isYeonhapFlash=Y&rc=N\n",
      "홍콩서 계속되는 혼돈…시위대 '공항 마비' 또 시도\n",
      "https://news.naver.com/main/read.nhn?mode=LPOD&mid=sec&oid=001&aid=0011053478&isYeonhapFlash=Y&rc=N\n",
      "가을바람에 나들이 인파…벌초객 몰려 고속道 몸살\n",
      "https://news.naver.com/main/read.nhn?mode=LPOD&mid=sec&oid=001&aid=0011053448&isYeonhapFlash=Y&rc=N\n",
      "기상청 \"북한 평안남도 개천 남동쪽서 2.3 지진 발생\"\n",
      "https://news.naver.com/main/read.nhn?mode=LPOD&mid=sec&oid=001&aid=0011053011&isYeonhapFlash=Y&rc=N\n",
      "미중 '보복의 악순환'…홍콩·무역 갈등 얽혀 첩첩산중\n",
      "https://news.naver.com/main/read.nhn?mode=LPOD&mid=sec&oid=001&aid=0011053016&isYeonhapFlash=Y&rc=N\n",
      "獨대통령, 2차대전 민간인 학살현장 찾아 \"용서 구한다\"\n",
      "https://news.naver.com/main/read.nhn?mode=LPOD&mid=sec&oid=001&aid=0011053477&isYeonhapFlash=Y&rc=N\n",
      "'패스트트랙' 한국당 첫 경찰조사…김준교 前청년최고위원 후보\n",
      "https://news.naver.com/main/read.nhn?mode=LPOD&mid=sec&oid=001&aid=0011053530&isYeonhapFlash=Y&rc=N\n"
     ]
    }
   ],
   "source": [
    "req = requests.get(base + date_query + page_query, headers=headers)\n",
    "soup = BeautifulSoup(req.content, 'html.parser', from_encoding='utf-8')\n",
    "\n",
    "soup\n",
    "\n",
    "news_list = soup.find('div', class_='list_body').find_all('a', class_=re.compile('nclicks*'))\n",
    "news_list\n",
    "\n",
    "for news in news_list:\n",
    "    link = news.get('href')\n",
    "    title = news.get_text()\n",
    "    print(title)\n",
    "    print(link)"
   ]
  },
  {
   "cell_type": "code",
   "execution_count": null,
   "metadata": {},
   "outputs": [],
   "source": []
  }
 ],
 "metadata": {
  "kernelspec": {
   "display_name": "Python 3",
   "language": "python",
   "name": "python3"
  },
  "language_info": {
   "codemirror_mode": {
    "name": "ipython",
    "version": 3
   },
   "file_extension": ".py",
   "mimetype": "text/x-python",
   "name": "python",
   "nbconvert_exporter": "python",
   "pygments_lexer": "ipython3",
   "version": "3.7.3"
  }
 },
 "nbformat": 4,
 "nbformat_minor": 2
}
